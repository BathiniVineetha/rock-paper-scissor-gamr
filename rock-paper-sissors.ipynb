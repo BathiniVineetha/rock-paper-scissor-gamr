{
 "cells": [
  {
   "cell_type": "code",
   "execution_count": 15,
   "id": "6eb7f45d",
   "metadata": {},
   "outputs": [
    {
     "name": "stdout",
     "output_type": "stream",
     "text": [
      "choose among the following: ['rock', 'paper', 'scissor']\n",
      "player choice:rock\n",
      "system choice:scissor\n",
      "your score:1,system score:0\n",
      "choose among the following: ['rock', 'paper', 'scissor']\n",
      "player choice:paper\n",
      "system choice:paper\n",
      "----drop----\n",
      "your score:1,system score:0\n",
      "choose among the following: ['rock', 'paper', 'scissor']\n",
      "player choice:scissor\n",
      "system choice:paper\n",
      "your score:2,system score:0\n",
      "choose among the following: ['rock', 'paper', 'scissor']\n",
      "player choice:scissor\n",
      "system choice:rock\n",
      "your score:2,system score:1\n",
      "choose among the following: ['rock', 'paper', 'scissor']\n",
      "player choice:paper\n",
      "system choice:paper\n",
      "----drop----\n",
      "your score:2,system score:1\n",
      "choose among the following: ['rock', 'paper', 'scissor']\n",
      "player choice:rock\n",
      "system choice:paper\n",
      "your score:2,system score:2\n",
      "choose among the following: ['rock', 'paper', 'scissor']\n",
      "player choice:rock\n",
      "system choice:scissor\n",
      "your score:3,system score:2\n",
      "you won the match\n"
     ]
    }
   ],
   "source": [
    "from random import randint\n",
    "choice=['rock','paper','scissor']\n",
    "p_score=c_score=0\n",
    "limit=3\n",
    "while p_score!=limit and c_score!=limit:\n",
    "    print(f'choose among the following:',choice)\n",
    "    my_ch=input('player choice:').lower()\n",
    "    if my_ch not in choice:\n",
    "        print('invalid input')\n",
    "        continue\n",
    "    sys_ch=choice[int(randint(0,2))]\n",
    "    print(f'system choice:{sys_ch}')\n",
    "    if my_ch==sys_ch:\n",
    "        print('----drop----')\n",
    "    elif my_ch=='rock' and sys_ch=='scissor':\n",
    "        p_score+=1\n",
    "    elif my_ch=='paper' and sys_ch=='rock':\n",
    "        p_score+=1\n",
    "    elif my_ch=='scissor' and sys_ch=='paper':\n",
    "        p_score+=1\n",
    "    else:\n",
    "        c_score+=1\n",
    "    print(f'your score:{p_score},system score:{c_score}')\n",
    "if p_score>c_score:\n",
    "    print('you won the match')\n",
    "else:\n",
    "    print('system won the match')\n",
    "        \n",
    "    \n",
    "    \n",
    "    "
   ]
  }
 ],
 "metadata": {
  "kernelspec": {
   "display_name": "Python 3",
   "language": "python",
   "name": "python3"
  },
  "language_info": {
   "codemirror_mode": {
    "name": "ipython",
    "version": 3
   },
   "file_extension": ".py",
   "mimetype": "text/x-python",
   "name": "python",
   "nbconvert_exporter": "python",
   "pygments_lexer": "ipython3",
   "version": "3.8.8"
  }
 },
 "nbformat": 4,
 "nbformat_minor": 5
}
